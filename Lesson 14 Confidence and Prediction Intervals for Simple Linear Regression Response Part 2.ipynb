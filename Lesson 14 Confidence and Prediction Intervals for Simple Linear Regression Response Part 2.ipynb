{
 "cells": [
  {
   "cell_type": "markdown",
   "id": "6267ec29-0874-40f5-852d-0b08f0e158aa",
   "metadata": {
    "editable": true,
    "slideshow": {
     "slide_type": ""
    },
    "tags": []
   },
   "source": [
    "**SM339 &#x25aa; Applied Statistics &#x25aa; Spring 2024 &#x25aa; Uhan**"
   ]
  },
  {
   "cell_type": "markdown",
   "id": "708ef632-7aee-4c5d-b8bc-ffb18b1fc56a",
   "metadata": {
    "editable": true,
    "slideshow": {
     "slide_type": ""
    },
    "tags": []
   },
   "source": [
    "# Lesson 14. Confidence and Prediction Intervals for SLR Response &ndash; Part 2"
   ]
  },
  {
   "cell_type": "markdown",
   "id": "ed088cb9-9b87-4978-ad22-70a81b7615e0",
   "metadata": {
    "editable": true,
    "slideshow": {
     "slide_type": ""
    },
    "tags": []
   },
   "source": [
    "## Example"
   ]
  },
  {
   "cell_type": "markdown",
   "id": "dae14193-df1c-4b23-8c76-895097fad20e",
   "metadata": {
    "editable": true,
    "slideshow": {
     "slide_type": ""
    },
    "tags": []
   },
   "source": [
    "Let's look at the `AccordPrice` data again."
   ]
  },
  {
   "cell_type": "code",
   "execution_count": 1,
   "id": "7306f4f4-a1da-4372-93b3-19619969902d",
   "metadata": {
    "editable": true,
    "slideshow": {
     "slide_type": ""
    },
    "tags": []
   },
   "outputs": [
    {
     "data": {
      "text/html": [
       "<table class=\"dataframe\">\n",
       "<caption>A data.frame: 6 × 3</caption>\n",
       "<thead>\n",
       "\t<tr><th></th><th scope=col>Age</th><th scope=col>Price</th><th scope=col>Mileage</th></tr>\n",
       "\t<tr><th></th><th scope=col>&lt;int&gt;</th><th scope=col>&lt;dbl&gt;</th><th scope=col>&lt;dbl&gt;</th></tr>\n",
       "</thead>\n",
       "<tbody>\n",
       "\t<tr><th scope=row>1</th><td>7</td><td>12.0</td><td>74.9</td></tr>\n",
       "\t<tr><th scope=row>2</th><td>4</td><td>17.9</td><td>53.0</td></tr>\n",
       "\t<tr><th scope=row>3</th><td>4</td><td>15.7</td><td>79.1</td></tr>\n",
       "\t<tr><th scope=row>4</th><td>7</td><td>12.5</td><td>50.1</td></tr>\n",
       "\t<tr><th scope=row>5</th><td>9</td><td> 9.5</td><td>62.0</td></tr>\n",
       "\t<tr><th scope=row>6</th><td>1</td><td>21.5</td><td> 4.8</td></tr>\n",
       "</tbody>\n",
       "</table>\n"
      ],
      "text/latex": [
       "A data.frame: 6 × 3\n",
       "\\begin{tabular}{r|lll}\n",
       "  & Age & Price & Mileage\\\\\n",
       "  & <int> & <dbl> & <dbl>\\\\\n",
       "\\hline\n",
       "\t1 & 7 & 12.0 & 74.9\\\\\n",
       "\t2 & 4 & 17.9 & 53.0\\\\\n",
       "\t3 & 4 & 15.7 & 79.1\\\\\n",
       "\t4 & 7 & 12.5 & 50.1\\\\\n",
       "\t5 & 9 &  9.5 & 62.0\\\\\n",
       "\t6 & 1 & 21.5 &  4.8\\\\\n",
       "\\end{tabular}\n"
      ],
      "text/markdown": [
       "\n",
       "A data.frame: 6 × 3\n",
       "\n",
       "| <!--/--> | Age &lt;int&gt; | Price &lt;dbl&gt; | Mileage &lt;dbl&gt; |\n",
       "|---|---|---|---|\n",
       "| 1 | 7 | 12.0 | 74.9 |\n",
       "| 2 | 4 | 17.9 | 53.0 |\n",
       "| 3 | 4 | 15.7 | 79.1 |\n",
       "| 4 | 7 | 12.5 | 50.1 |\n",
       "| 5 | 9 |  9.5 | 62.0 |\n",
       "| 6 | 1 | 21.5 |  4.8 |\n",
       "\n"
      ],
      "text/plain": [
       "  Age Price Mileage\n",
       "1 7   12.0  74.9   \n",
       "2 4   17.9  53.0   \n",
       "3 4   15.7  79.1   \n",
       "4 7   12.5  50.1   \n",
       "5 9    9.5  62.0   \n",
       "6 1   21.5   4.8   "
      ]
     },
     "metadata": {},
     "output_type": "display_data"
    }
   ],
   "source": [
    "library(Stat2Data)\n",
    "data(AccordPrice)\n",
    "head(AccordPrice)"
   ]
  },
  {
   "cell_type": "markdown",
   "id": "6ab549b9-597e-4155-896c-3ddfe49cff59",
   "metadata": {
    "editable": true,
    "slideshow": {
     "slide_type": ""
    },
    "tags": []
   },
   "source": [
    "* As we saw in Lesson 7, we can fit a simple linear regression model predicting $\\mathit{Price}$ from $\\mathit{Mileage}$"
   ]
  },
  {
   "cell_type": "code",
   "execution_count": 2,
   "id": "bf7112b0-d3b9-4907-a981-8d8aada6c6d7",
   "metadata": {
    "editable": true,
    "slideshow": {
     "slide_type": ""
    },
    "tags": []
   },
   "outputs": [],
   "source": [
    "fit <- lm(Price ~ Mileage, data = AccordPrice)"
   ]
  },
  {
   "cell_type": "markdown",
   "id": "012a865e-be7a-4255-87a0-4d9c94a34888",
   "metadata": {
    "editable": true,
    "slideshow": {
     "slide_type": ""
    },
    "tags": []
   },
   "source": [
    "* We can use the following code to construct a 95\\% _confidence_ interval for the average price of a used Accord with 50,000 miles on it\n",
    "    * Recall that $\\textit{Mileage}$ is in 1000s of miles"
   ]
  },
  {
   "cell_type": "code",
   "execution_count": 3,
   "id": "8c426bfc-df9d-4762-be35-ba34a18eb13c",
   "metadata": {
    "editable": true,
    "slideshow": {
     "slide_type": ""
    },
    "tags": []
   },
   "outputs": [
    {
     "data": {
      "text/html": [
       "<table class=\"dataframe\">\n",
       "<caption>A matrix: 1 × 3 of type dbl</caption>\n",
       "<thead>\n",
       "\t<tr><th></th><th scope=col>fit</th><th scope=col>lwr</th><th scope=col>upr</th></tr>\n",
       "</thead>\n",
       "<tbody>\n",
       "\t<tr><th scope=row>1</th><td>14.81902</td><td>13.65787</td><td>15.98016</td></tr>\n",
       "</tbody>\n",
       "</table>\n"
      ],
      "text/latex": [
       "A matrix: 1 × 3 of type dbl\n",
       "\\begin{tabular}{r|lll}\n",
       "  & fit & lwr & upr\\\\\n",
       "\\hline\n",
       "\t1 & 14.81902 & 13.65787 & 15.98016\\\\\n",
       "\\end{tabular}\n"
      ],
      "text/markdown": [
       "\n",
       "A matrix: 1 × 3 of type dbl\n",
       "\n",
       "| <!--/--> | fit | lwr | upr |\n",
       "|---|---|---|---|\n",
       "| 1 | 14.81902 | 13.65787 | 15.98016 |\n",
       "\n"
      ],
      "text/plain": [
       "  fit      lwr      upr     \n",
       "1 14.81902 13.65787 15.98016"
      ]
     },
     "metadata": {},
     "output_type": "display_data"
    }
   ],
   "source": [
    "predict(fit, newdata = data.frame(Mileage = 50), interval=\"confidence\", level=0.95)"
   ]
  },
  {
   "cell_type": "markdown",
   "id": "cabd3a74-c143-40d6-af1a-cce01faea336",
   "metadata": {
    "editable": true,
    "slideshow": {
     "slide_type": ""
    },
    "tags": []
   },
   "source": [
    "* Similarly, we can use the following code to construct a 95\\% _prediction_ interval for the price of an individual used Accord with 50,000 miles on it"
   ]
  },
  {
   "cell_type": "code",
   "execution_count": 4,
   "id": "8e63c202-ea7e-4d92-8c46-26b73154acf9",
   "metadata": {
    "editable": true,
    "slideshow": {
     "slide_type": ""
    },
    "tags": []
   },
   "outputs": [
    {
     "data": {
      "text/html": [
       "<table class=\"dataframe\">\n",
       "<caption>A matrix: 1 × 3 of type dbl</caption>\n",
       "<thead>\n",
       "\t<tr><th></th><th scope=col>fit</th><th scope=col>lwr</th><th scope=col>upr</th></tr>\n",
       "</thead>\n",
       "<tbody>\n",
       "\t<tr><th scope=row>1</th><td>14.81902</td><td>8.393807</td><td>21.24422</td></tr>\n",
       "</tbody>\n",
       "</table>\n"
      ],
      "text/latex": [
       "A matrix: 1 × 3 of type dbl\n",
       "\\begin{tabular}{r|lll}\n",
       "  & fit & lwr & upr\\\\\n",
       "\\hline\n",
       "\t1 & 14.81902 & 8.393807 & 21.24422\\\\\n",
       "\\end{tabular}\n"
      ],
      "text/markdown": [
       "\n",
       "A matrix: 1 × 3 of type dbl\n",
       "\n",
       "| <!--/--> | fit | lwr | upr |\n",
       "|---|---|---|---|\n",
       "| 1 | 14.81902 | 8.393807 | 21.24422 |\n",
       "\n"
      ],
      "text/plain": [
       "  fit      lwr      upr     \n",
       "1 14.81902 8.393807 21.24422"
      ]
     },
     "metadata": {},
     "output_type": "display_data"
    }
   ],
   "source": [
    "predict(fit, newdata = data.frame(Mileage = 50), interval=\"prediction\", level=0.95)"
   ]
  }
 ],
 "metadata": {
  "kernelspec": {
   "display_name": "R",
   "language": "R",
   "name": "ir"
  },
  "language_info": {
   "codemirror_mode": "r",
   "file_extension": ".r",
   "mimetype": "text/x-r-source",
   "name": "R",
   "pygments_lexer": "r",
   "version": "4.3.2"
  }
 },
 "nbformat": 4,
 "nbformat_minor": 5
}
