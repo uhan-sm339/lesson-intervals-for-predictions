{
 "cells": [
  {
   "cell_type": "markdown",
   "id": "6267ec29-0874-40f5-852d-0b08f0e158aa",
   "metadata": {
    "editable": true,
    "slideshow": {
     "slide_type": ""
    },
    "tags": []
   },
   "source": [
    "**SM339 &#x25aa; Applied Statistics &#x25aa; Spring 2024 &#x25aa; Uhan**"
   ]
  },
  {
   "cell_type": "markdown",
   "id": "708ef632-7aee-4c5d-b8bc-ffb18b1fc56a",
   "metadata": {
    "editable": true,
    "slideshow": {
     "slide_type": ""
    },
    "tags": []
   },
   "source": [
    "# Lesson 14. Confidence and Prediction Intervals for SLR Response &ndash; Part 2"
   ]
  },
  {
   "cell_type": "markdown",
   "id": "ed088cb9-9b87-4978-ad22-70a81b7615e0",
   "metadata": {
    "editable": true,
    "slideshow": {
     "slide_type": ""
    },
    "tags": []
   },
   "source": [
    "## Example"
   ]
  },
  {
   "cell_type": "markdown",
   "id": "dae14193-df1c-4b23-8c76-895097fad20e",
   "metadata": {
    "editable": true,
    "slideshow": {
     "slide_type": ""
    },
    "tags": []
   },
   "source": [
    "Let's look at the `PorschePrice` data again."
   ]
  },
  {
   "cell_type": "code",
   "execution_count": 1,
   "id": "7306f4f4-a1da-4372-93b3-19619969902d",
   "metadata": {},
   "outputs": [
    {
     "data": {
      "text/html": [
       "<table class=\"dataframe\">\n",
       "<caption>A data.frame: 6 × 3</caption>\n",
       "<thead>\n",
       "\t<tr><th></th><th scope=col>Price</th><th scope=col>Age</th><th scope=col>Mileage</th></tr>\n",
       "\t<tr><th></th><th scope=col>&lt;dbl&gt;</th><th scope=col>&lt;int&gt;</th><th scope=col>&lt;dbl&gt;</th></tr>\n",
       "</thead>\n",
       "<tbody>\n",
       "\t<tr><th scope=row>1</th><td>69.4</td><td>3</td><td>21.5</td></tr>\n",
       "\t<tr><th scope=row>2</th><td>56.9</td><td>3</td><td>43.0</td></tr>\n",
       "\t<tr><th scope=row>3</th><td>49.9</td><td>2</td><td>19.9</td></tr>\n",
       "\t<tr><th scope=row>4</th><td>47.4</td><td>4</td><td>36.0</td></tr>\n",
       "\t<tr><th scope=row>5</th><td>42.9</td><td>4</td><td>44.0</td></tr>\n",
       "\t<tr><th scope=row>6</th><td>36.9</td><td>6</td><td>49.8</td></tr>\n",
       "</tbody>\n",
       "</table>\n"
      ],
      "text/latex": [
       "A data.frame: 6 × 3\n",
       "\\begin{tabular}{r|lll}\n",
       "  & Price & Age & Mileage\\\\\n",
       "  & <dbl> & <int> & <dbl>\\\\\n",
       "\\hline\n",
       "\t1 & 69.4 & 3 & 21.5\\\\\n",
       "\t2 & 56.9 & 3 & 43.0\\\\\n",
       "\t3 & 49.9 & 2 & 19.9\\\\\n",
       "\t4 & 47.4 & 4 & 36.0\\\\\n",
       "\t5 & 42.9 & 4 & 44.0\\\\\n",
       "\t6 & 36.9 & 6 & 49.8\\\\\n",
       "\\end{tabular}\n"
      ],
      "text/markdown": [
       "\n",
       "A data.frame: 6 × 3\n",
       "\n",
       "| <!--/--> | Price &lt;dbl&gt; | Age &lt;int&gt; | Mileage &lt;dbl&gt; |\n",
       "|---|---|---|---|\n",
       "| 1 | 69.4 | 3 | 21.5 |\n",
       "| 2 | 56.9 | 3 | 43.0 |\n",
       "| 3 | 49.9 | 2 | 19.9 |\n",
       "| 4 | 47.4 | 4 | 36.0 |\n",
       "| 5 | 42.9 | 4 | 44.0 |\n",
       "| 6 | 36.9 | 6 | 49.8 |\n",
       "\n"
      ],
      "text/plain": [
       "  Price Age Mileage\n",
       "1 69.4  3   21.5   \n",
       "2 56.9  3   43.0   \n",
       "3 49.9  2   19.9   \n",
       "4 47.4  4   36.0   \n",
       "5 42.9  4   44.0   \n",
       "6 36.9  6   49.8   "
      ]
     },
     "metadata": {},
     "output_type": "display_data"
    }
   ],
   "source": [
    "library(Stat2Data)\n",
    "data(PorschePrice)\n",
    "head(PorschePrice)"
   ]
  },
  {
   "cell_type": "markdown",
   "id": "6ab549b9-597e-4155-896c-3ddfe49cff59",
   "metadata": {},
   "source": [
    "As we saw in Lesson 6, we can fit a simple linear regression model predicting $\\mathit{Price}$ from $\\mathit{Mileage}$."
   ]
  },
  {
   "cell_type": "code",
   "execution_count": 2,
   "id": "bf7112b0-d3b9-4907-a981-8d8aada6c6d7",
   "metadata": {},
   "outputs": [],
   "source": [
    "fit <- lm(Price ~ Mileage, data = PorschePrice)"
   ]
  },
  {
   "cell_type": "markdown",
   "id": "012a865e-be7a-4255-87a0-4d9c94a34888",
   "metadata": {},
   "source": [
    "We can use the following code to construct a 95\\% confidence interval for the average price of a used Porsche with 50,000 miles on it. Recall that $\\textit{Mileage}$ is in 1000s of miles."
   ]
  },
  {
   "cell_type": "code",
   "execution_count": 3,
   "id": "8c426bfc-df9d-4762-be35-ba34a18eb13c",
   "metadata": {},
   "outputs": [
    {
     "data": {
      "text/html": [
       "<table class=\"dataframe\">\n",
       "<caption>A matrix: 1 × 3 of type dbl</caption>\n",
       "<thead>\n",
       "\t<tr><th></th><th scope=col>fit</th><th scope=col>lwr</th><th scope=col>upr</th></tr>\n",
       "</thead>\n",
       "<tbody>\n",
       "\t<tr><th scope=row>1</th><td>41.62041</td><td>38.41535</td><td>44.82546</td></tr>\n",
       "</tbody>\n",
       "</table>\n"
      ],
      "text/latex": [
       "A matrix: 1 × 3 of type dbl\n",
       "\\begin{tabular}{r|lll}\n",
       "  & fit & lwr & upr\\\\\n",
       "\\hline\n",
       "\t1 & 41.62041 & 38.41535 & 44.82546\\\\\n",
       "\\end{tabular}\n"
      ],
      "text/markdown": [
       "\n",
       "A matrix: 1 × 3 of type dbl\n",
       "\n",
       "| <!--/--> | fit | lwr | upr |\n",
       "|---|---|---|---|\n",
       "| 1 | 41.62041 | 38.41535 | 44.82546 |\n",
       "\n"
      ],
      "text/plain": [
       "  fit      lwr      upr     \n",
       "1 41.62041 38.41535 44.82546"
      ]
     },
     "metadata": {},
     "output_type": "display_data"
    }
   ],
   "source": [
    "predict(fit, newdata = data.frame(Mileage = 50),\n",
    "        interval=\"confidence\", level=0.95)"
   ]
  },
  {
   "cell_type": "markdown",
   "id": "cabd3a74-c143-40d6-af1a-cce01faea336",
   "metadata": {},
   "source": [
    "Similarly, we can use the following code to construct a 95\\% prediction interval for the price of an individual used Porsche with 50,000 miles on it."
   ]
  },
  {
   "cell_type": "code",
   "execution_count": 4,
   "id": "8e63c202-ea7e-4d92-8c46-26b73154acf9",
   "metadata": {},
   "outputs": [
    {
     "data": {
      "text/html": [
       "<table class=\"dataframe\">\n",
       "<caption>A matrix: 1 × 3 of type dbl</caption>\n",
       "<thead>\n",
       "\t<tr><th></th><th scope=col>fit</th><th scope=col>lwr</th><th scope=col>upr</th></tr>\n",
       "</thead>\n",
       "<tbody>\n",
       "\t<tr><th scope=row>1</th><td>41.62041</td><td>26.58711</td><td>56.6537</td></tr>\n",
       "</tbody>\n",
       "</table>\n"
      ],
      "text/latex": [
       "A matrix: 1 × 3 of type dbl\n",
       "\\begin{tabular}{r|lll}\n",
       "  & fit & lwr & upr\\\\\n",
       "\\hline\n",
       "\t1 & 41.62041 & 26.58711 & 56.6537\\\\\n",
       "\\end{tabular}\n"
      ],
      "text/markdown": [
       "\n",
       "A matrix: 1 × 3 of type dbl\n",
       "\n",
       "| <!--/--> | fit | lwr | upr |\n",
       "|---|---|---|---|\n",
       "| 1 | 41.62041 | 26.58711 | 56.6537 |\n",
       "\n"
      ],
      "text/plain": [
       "  fit      lwr      upr    \n",
       "1 41.62041 26.58711 56.6537"
      ]
     },
     "metadata": {},
     "output_type": "display_data"
    }
   ],
   "source": [
    "predict(fit, newdata = data.frame(Mileage = 50),\n",
    "        interval=\"prediction\", level=0.95)"
   ]
  }
 ],
 "metadata": {
  "kernelspec": {
   "display_name": "R",
   "language": "R",
   "name": "ir"
  },
  "language_info": {
   "codemirror_mode": "r",
   "file_extension": ".r",
   "mimetype": "text/x-r-source",
   "name": "R",
   "pygments_lexer": "r",
   "version": "4.3.2"
  }
 },
 "nbformat": 4,
 "nbformat_minor": 5
}
